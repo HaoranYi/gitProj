{
 "cells": [
  {
   "cell_type": "markdown",
   "metadata": {},
   "source": [
    "# Time Series"
   ]
  },
  {
   "cell_type": "code",
   "execution_count": 1,
   "metadata": {
    "collapsed": true
   },
   "outputs": [],
   "source": [
    "import numpy as np\n",
    "import pandas as pd\n",
    "import matplotlib.pyplot as plt\n",
    "%matplotlib inline"
   ]
  },
  {
   "cell_type": "code",
   "execution_count": 5,
   "metadata": {},
   "outputs": [],
   "source": [
    "rng = pd.date_range('2011/1/1', periods=72, freq='H')"
   ]
  },
  {
   "cell_type": "code",
   "execution_count": 4,
   "metadata": {},
   "outputs": [
    {
     "data": {
      "text/plain": [
       "2011-01-01 00:00:00    1.816846\n",
       "2011-01-01 01:00:00   -0.998269\n",
       "2011-01-01 02:00:00   -1.940087\n",
       "2011-01-01 03:00:00    0.736687\n",
       "2011-01-01 04:00:00    2.176403\n",
       "Freq: H, dtype: float64"
      ]
     },
     "execution_count": 4,
     "metadata": {},
     "output_type": "execute_result"
    }
   ],
   "source": [
    "ts = pd.Series(np.random.randn(len(rng)), index=rng)\n",
    "ts.head()"
   ]
  },
  {
   "cell_type": "code",
   "execution_count": 6,
   "metadata": {},
   "outputs": [
    {
     "data": {
      "text/plain": [
       "2011-01-01 00:00:00    1.816846\n",
       "2011-01-01 00:45:00    1.816846\n",
       "2011-01-01 01:30:00   -0.998269\n",
       "2011-01-01 02:15:00   -1.940087\n",
       "2011-01-01 03:00:00    0.736687\n",
       "Freq: 45T, dtype: float64"
      ]
     },
     "execution_count": 6,
     "metadata": {},
     "output_type": "execute_result"
    }
   ],
   "source": [
    "cvt=ts.asfreq('45min', method='pad')\n",
    "cvt.head()"
   ]
  },
  {
   "cell_type": "code",
   "execution_count": 7,
   "metadata": {},
   "outputs": [
    {
     "data": {
      "text/plain": [
       "2011-01-01   -0.162211\n",
       "2011-01-02    0.115601\n",
       "2011-01-03    0.219592\n",
       "Freq: D, dtype: float64"
      ]
     },
     "execution_count": 7,
     "metadata": {},
     "output_type": "execute_result"
    }
   ],
   "source": [
    "ts.resample('D').mean()"
   ]
  },
  {
   "cell_type": "markdown",
   "metadata": {},
   "source": [
    "## classes\n",
    "----------------------------\n",
    "|class | remarks | create|\n",
    "|------|---------|-------|\n",
    "|Timestamp | represent a single time stamp | to_datetime, timestamp|\n",
    "|DatetimeIndex | index of Timestamp | to_datetime, date_range, DatetimeIndex |\n",
    "|Period | represents a single time span | Period |\n",
    "|PeriodIndex | index of Period | period_range, PeriodIndex|"
   ]
  },
  {
   "cell_type": "code",
   "execution_count": 10,
   "metadata": {},
   "outputs": [
    {
     "data": {
      "text/plain": [
       "Timestamp('2017-01-01 00:00:00')"
      ]
     },
     "execution_count": 10,
     "metadata": {},
     "output_type": "execute_result"
    }
   ],
   "source": [
    "from datetime import datetime\n",
    "pd.Timestamp(datetime(2017,1,1))"
   ]
  },
  {
   "cell_type": "code",
   "execution_count": 11,
   "metadata": {},
   "outputs": [
    {
     "data": {
      "text/plain": [
       "Period('2017-01', 'M')"
      ]
     },
     "execution_count": 11,
     "metadata": {},
     "output_type": "execute_result"
    }
   ],
   "source": [
    "pd.Period('2017-1')"
   ]
  },
  {
   "cell_type": "code",
   "execution_count": 12,
   "metadata": {},
   "outputs": [
    {
     "data": {
      "text/plain": [
       "Period('2017-01-01', 'D')"
      ]
     },
     "execution_count": 12,
     "metadata": {},
     "output_type": "execute_result"
    }
   ],
   "source": [
    "pd.Period('2017-1', freq='D')"
   ]
  },
  {
   "cell_type": "markdown",
   "metadata": {},
   "source": [
    "Timestamp -> DatetimeIndex; Period -> PeriodIndex"
   ]
  },
  {
   "cell_type": "code",
   "execution_count": 14,
   "metadata": {},
   "outputs": [],
   "source": [
    "dates = [pd.Timestamp(x) for x in ('2012-05-01', '2012-05-02', '2012-05-03')]\n",
    "ts = pd.Series(np.random.randn(3), dates)"
   ]
  },
  {
   "cell_type": "code",
   "execution_count": 17,
   "metadata": {},
   "outputs": [],
   "source": [
    "periods = [pd.Period(x) for x in ('2012-01', '2012-02', '2012-03')]\n",
    "ts = pd.Series(np.random.randn(3), periods)"
   ]
  },
  {
   "cell_type": "code",
   "execution_count": 18,
   "metadata": {},
   "outputs": [
    {
     "data": {
      "text/plain": [
       "2012-01   -0.076480\n",
       "2012-02    1.489065\n",
       "2012-03    0.612038\n",
       "Freq: M, dtype: float64"
      ]
     },
     "execution_count": 18,
     "metadata": {},
     "output_type": "execute_result"
    }
   ],
   "source": [
    "ts"
   ]
  },
  {
   "cell_type": "code",
   "execution_count": 19,
   "metadata": {},
   "outputs": [
    {
     "data": {
      "text/plain": [
       "0   2009-07-31\n",
       "1   2010-01-10\n",
       "2          NaT\n",
       "dtype: datetime64[ns]"
      ]
     },
     "execution_count": 19,
     "metadata": {},
     "output_type": "execute_result"
    }
   ],
   "source": [
    "pd.to_datetime(pd.Series(['Jul 31, 2009', '2010-01-10', None]))"
   ]
  },
  {
   "cell_type": "code",
   "execution_count": 21,
   "metadata": {},
   "outputs": [
    {
     "data": {
      "text/plain": [
       "DatetimeIndex(['2005-11-23', '2010-12-31'], dtype='datetime64[ns]', freq=None)"
      ]
     },
     "execution_count": 21,
     "metadata": {},
     "output_type": "execute_result"
    }
   ],
   "source": [
    "pd.to_datetime(['2005/11/23', '2010.12.31'])"
   ]
  },
  {
   "cell_type": "code",
   "execution_count": 24,
   "metadata": {},
   "outputs": [
    {
     "data": {
      "text/plain": [
       "0   2015-02-04\n",
       "1   2016-03-05\n",
       "dtype: datetime64[ns]"
      ]
     },
     "execution_count": 24,
     "metadata": {},
     "output_type": "execute_result"
    }
   ],
   "source": [
    "df = pd.DataFrame({'year': [2015, 2016],\n",
    "                   'month': [2, 3],\n",
    "                   'day': [4,5],\n",
    "                   'hour': [2, 3]})\n",
    "pd.to_datetime(df[['year','month','day']])"
   ]
  },
  {
   "cell_type": "code",
   "execution_count": 25,
   "metadata": {},
   "outputs": [
    {
     "data": {
      "text/plain": [
       "DatetimeIndex(['2012-10-08 18:15:05', '2012-10-09 18:15:05',\n",
       "               '2012-10-10 18:15:05', '2012-10-11 18:15:05',\n",
       "               '2012-10-12 18:15:05'],\n",
       "              dtype='datetime64[ns]', freq=None)"
      ]
     },
     "execution_count": 25,
     "metadata": {},
     "output_type": "execute_result"
    }
   ],
   "source": [
    "# epoch timestamps\n",
    "pd.to_datetime([1349720105, 1349806505, 1349892905, 1349979305, 1350065705], unit='s')"
   ]
  },
  {
   "cell_type": "code",
   "execution_count": 27,
   "metadata": {},
   "outputs": [
    {
     "data": {
      "text/plain": [
       "DatetimeIndex(['2012-10-08 18:15:05', '2012-10-09 18:15:05',\n",
       "               '2012-10-10 18:15:05', '2012-10-11 18:15:05'],\n",
       "              dtype='datetime64[ns]', freq='D')"
      ]
     },
     "execution_count": 27,
     "metadata": {},
     "output_type": "execute_result"
    }
   ],
   "source": [
    "stamps = pd.date_range('2012-10-08 18:15:05', periods=4, freq='D')\n",
    "stamps"
   ]
  },
  {
   "cell_type": "code",
   "execution_count": 28,
   "metadata": {},
   "outputs": [
    {
     "data": {
      "text/plain": [
       "DatetimeIndex(['2012-01-02', '2012-01-03', '2012-01-04', '2012-01-05',\n",
       "               '2012-01-06', '2012-01-09', '2012-01-10', '2012-01-11',\n",
       "               '2012-01-12', '2012-01-13',\n",
       "               ...\n",
       "               '2012-12-03', '2012-12-04', '2012-12-05', '2012-12-06',\n",
       "               '2012-12-07', '2012-12-10', '2012-12-11', '2012-12-12',\n",
       "               '2012-12-13', '2012-12-14'],\n",
       "              dtype='datetime64[ns]', length=250, freq='B')"
      ]
     },
     "execution_count": 28,
     "metadata": {},
     "output_type": "execute_result"
    }
   ],
   "source": [
    "# business day as the frequency\n",
    "index = pd.bdate_range('2012-1-1', periods=250)\n",
    "index"
   ]
  },
  {
   "cell_type": "code",
   "execution_count": null,
   "metadata": {
    "collapsed": true
   },
   "outputs": [],
   "source": [
    "pd.date_range(start, end, freq='BM')\n",
    "pd.date_range(start, end, freq='W')"
   ]
  },
  {
   "cell_type": "markdown",
   "metadata": {},
   "source": [
    "# indexing"
   ]
  },
  {
   "cell_type": "code",
   "execution_count": 29,
   "metadata": {
    "collapsed": true
   },
   "outputs": [],
   "source": [
    "rng = pd.date_range('2011-01-31', '2011-12-30', freq='BM')"
   ]
  },
  {
   "cell_type": "code",
   "execution_count": 32,
   "metadata": {},
   "outputs": [
    {
     "data": {
      "text/plain": [
       "DatetimeIndex(['2011-01-31', '2011-03-31', '2011-05-31', '2011-07-29',\n",
       "               '2011-09-30', '2011-11-30'],\n",
       "              dtype='datetime64[ns]', freq='2BM')"
      ]
     },
     "execution_count": 32,
     "metadata": {},
     "output_type": "execute_result"
    }
   ],
   "source": [
    "ts = pd.Series(np.random.randn(len(rng)), index=rng)\n",
    "ts[::2].index"
   ]
  },
  {
   "cell_type": "code",
   "execution_count": 33,
   "metadata": {},
   "outputs": [
    {
     "data": {
      "text/plain": [
       "-0.53376668219686685"
      ]
     },
     "execution_count": 33,
     "metadata": {},
     "output_type": "execute_result"
    }
   ],
   "source": [
    "ts['1/31/2011']"
   ]
  },
  {
   "cell_type": "code",
   "execution_count": 34,
   "metadata": {},
   "outputs": [
    {
     "data": {
      "text/plain": [
       "2011-01-31   -0.533767\n",
       "2011-02-28   -0.275813\n",
       "2011-03-31    0.728291\n",
       "2011-04-29   -1.519962\n",
       "2011-05-31    1.068631\n",
       "2011-06-30    0.118934\n",
       "2011-07-29    1.962992\n",
       "2011-08-31   -0.407807\n",
       "2011-09-30    0.072374\n",
       "2011-10-31    0.468694\n",
       "2011-11-30   -0.794578\n",
       "2011-12-30    0.410783\n",
       "Freq: BM, dtype: float64"
      ]
     },
     "execution_count": 34,
     "metadata": {},
     "output_type": "execute_result"
    }
   ],
   "source": [
    "ts['2011']"
   ]
  },
  {
   "cell_type": "code",
   "execution_count": 37,
   "metadata": {},
   "outputs": [
    {
     "data": {
      "text/html": [
       "<div>\n",
       "<style>\n",
       "    .dataframe thead tr:only-child th {\n",
       "        text-align: right;\n",
       "    }\n",
       "\n",
       "    .dataframe thead th {\n",
       "        text-align: left;\n",
       "    }\n",
       "\n",
       "    .dataframe tbody tr th {\n",
       "        vertical-align: top;\n",
       "    }\n",
       "</style>\n",
       "<table border=\"1\" class=\"dataframe\">\n",
       "  <thead>\n",
       "    <tr style=\"text-align: right;\">\n",
       "      <th></th>\n",
       "      <th>A</th>\n",
       "    </tr>\n",
       "  </thead>\n",
       "  <tbody>\n",
       "    <tr>\n",
       "      <th>2013-01-01 00:00:00</th>\n",
       "      <td>-1.974428</td>\n",
       "    </tr>\n",
       "    <tr>\n",
       "      <th>2013-01-01 00:01:00</th>\n",
       "      <td>-1.148284</td>\n",
       "    </tr>\n",
       "    <tr>\n",
       "      <th>2013-01-01 00:02:00</th>\n",
       "      <td>-0.380720</td>\n",
       "    </tr>\n",
       "    <tr>\n",
       "      <th>2013-01-01 00:03:00</th>\n",
       "      <td>0.699184</td>\n",
       "    </tr>\n",
       "    <tr>\n",
       "      <th>2013-01-01 00:04:00</th>\n",
       "      <td>-0.977866</td>\n",
       "    </tr>\n",
       "    <tr>\n",
       "      <th>2013-01-01 00:05:00</th>\n",
       "      <td>0.397468</td>\n",
       "    </tr>\n",
       "    <tr>\n",
       "      <th>2013-01-01 00:06:00</th>\n",
       "      <td>1.159124</td>\n",
       "    </tr>\n",
       "    <tr>\n",
       "      <th>2013-01-01 00:07:00</th>\n",
       "      <td>0.942133</td>\n",
       "    </tr>\n",
       "    <tr>\n",
       "      <th>2013-01-01 00:08:00</th>\n",
       "      <td>-1.162891</td>\n",
       "    </tr>\n",
       "    <tr>\n",
       "      <th>2013-01-01 00:09:00</th>\n",
       "      <td>0.949470</td>\n",
       "    </tr>\n",
       "    <tr>\n",
       "      <th>2013-01-01 00:10:00</th>\n",
       "      <td>0.079401</td>\n",
       "    </tr>\n",
       "    <tr>\n",
       "      <th>2013-01-01 00:11:00</th>\n",
       "      <td>-0.280849</td>\n",
       "    </tr>\n",
       "    <tr>\n",
       "      <th>2013-01-01 00:12:00</th>\n",
       "      <td>-0.002108</td>\n",
       "    </tr>\n",
       "    <tr>\n",
       "      <th>2013-01-01 00:13:00</th>\n",
       "      <td>0.314929</td>\n",
       "    </tr>\n",
       "    <tr>\n",
       "      <th>2013-01-01 00:14:00</th>\n",
       "      <td>0.240159</td>\n",
       "    </tr>\n",
       "    <tr>\n",
       "      <th>2013-01-01 00:15:00</th>\n",
       "      <td>-1.557890</td>\n",
       "    </tr>\n",
       "    <tr>\n",
       "      <th>2013-01-01 00:16:00</th>\n",
       "      <td>-0.841496</td>\n",
       "    </tr>\n",
       "    <tr>\n",
       "      <th>2013-01-01 00:17:00</th>\n",
       "      <td>0.754569</td>\n",
       "    </tr>\n",
       "    <tr>\n",
       "      <th>2013-01-01 00:18:00</th>\n",
       "      <td>-1.082962</td>\n",
       "    </tr>\n",
       "    <tr>\n",
       "      <th>2013-01-01 00:19:00</th>\n",
       "      <td>0.130185</td>\n",
       "    </tr>\n",
       "    <tr>\n",
       "      <th>2013-01-01 00:20:00</th>\n",
       "      <td>-0.327887</td>\n",
       "    </tr>\n",
       "    <tr>\n",
       "      <th>2013-01-01 00:21:00</th>\n",
       "      <td>-0.405397</td>\n",
       "    </tr>\n",
       "    <tr>\n",
       "      <th>2013-01-01 00:22:00</th>\n",
       "      <td>-0.689178</td>\n",
       "    </tr>\n",
       "    <tr>\n",
       "      <th>2013-01-01 00:23:00</th>\n",
       "      <td>1.214522</td>\n",
       "    </tr>\n",
       "    <tr>\n",
       "      <th>2013-01-01 00:24:00</th>\n",
       "      <td>1.096369</td>\n",
       "    </tr>\n",
       "    <tr>\n",
       "      <th>2013-01-01 00:25:00</th>\n",
       "      <td>-0.788482</td>\n",
       "    </tr>\n",
       "    <tr>\n",
       "      <th>2013-01-01 00:26:00</th>\n",
       "      <td>0.526307</td>\n",
       "    </tr>\n",
       "    <tr>\n",
       "      <th>2013-01-01 00:27:00</th>\n",
       "      <td>-0.939394</td>\n",
       "    </tr>\n",
       "    <tr>\n",
       "      <th>2013-01-01 00:28:00</th>\n",
       "      <td>2.360202</td>\n",
       "    </tr>\n",
       "    <tr>\n",
       "      <th>2013-01-01 00:29:00</th>\n",
       "      <td>0.306818</td>\n",
       "    </tr>\n",
       "    <tr>\n",
       "      <th>...</th>\n",
       "      <td>...</td>\n",
       "    </tr>\n",
       "    <tr>\n",
       "      <th>2013-01-01 16:10:00</th>\n",
       "      <td>-0.456225</td>\n",
       "    </tr>\n",
       "    <tr>\n",
       "      <th>2013-01-01 16:11:00</th>\n",
       "      <td>-2.079292</td>\n",
       "    </tr>\n",
       "    <tr>\n",
       "      <th>2013-01-01 16:12:00</th>\n",
       "      <td>-0.098580</td>\n",
       "    </tr>\n",
       "    <tr>\n",
       "      <th>2013-01-01 16:13:00</th>\n",
       "      <td>-0.211227</td>\n",
       "    </tr>\n",
       "    <tr>\n",
       "      <th>2013-01-01 16:14:00</th>\n",
       "      <td>-0.054038</td>\n",
       "    </tr>\n",
       "    <tr>\n",
       "      <th>2013-01-01 16:15:00</th>\n",
       "      <td>2.419179</td>\n",
       "    </tr>\n",
       "    <tr>\n",
       "      <th>2013-01-01 16:16:00</th>\n",
       "      <td>1.131048</td>\n",
       "    </tr>\n",
       "    <tr>\n",
       "      <th>2013-01-01 16:17:00</th>\n",
       "      <td>-0.476872</td>\n",
       "    </tr>\n",
       "    <tr>\n",
       "      <th>2013-01-01 16:18:00</th>\n",
       "      <td>0.698769</td>\n",
       "    </tr>\n",
       "    <tr>\n",
       "      <th>2013-01-01 16:19:00</th>\n",
       "      <td>1.544875</td>\n",
       "    </tr>\n",
       "    <tr>\n",
       "      <th>2013-01-01 16:20:00</th>\n",
       "      <td>0.500004</td>\n",
       "    </tr>\n",
       "    <tr>\n",
       "      <th>2013-01-01 16:21:00</th>\n",
       "      <td>-2.397660</td>\n",
       "    </tr>\n",
       "    <tr>\n",
       "      <th>2013-01-01 16:22:00</th>\n",
       "      <td>-0.405765</td>\n",
       "    </tr>\n",
       "    <tr>\n",
       "      <th>2013-01-01 16:23:00</th>\n",
       "      <td>-0.623327</td>\n",
       "    </tr>\n",
       "    <tr>\n",
       "      <th>2013-01-01 16:24:00</th>\n",
       "      <td>0.893022</td>\n",
       "    </tr>\n",
       "    <tr>\n",
       "      <th>2013-01-01 16:25:00</th>\n",
       "      <td>0.721776</td>\n",
       "    </tr>\n",
       "    <tr>\n",
       "      <th>2013-01-01 16:26:00</th>\n",
       "      <td>0.480019</td>\n",
       "    </tr>\n",
       "    <tr>\n",
       "      <th>2013-01-01 16:27:00</th>\n",
       "      <td>0.107186</td>\n",
       "    </tr>\n",
       "    <tr>\n",
       "      <th>2013-01-01 16:28:00</th>\n",
       "      <td>-1.087216</td>\n",
       "    </tr>\n",
       "    <tr>\n",
       "      <th>2013-01-01 16:29:00</th>\n",
       "      <td>-0.062043</td>\n",
       "    </tr>\n",
       "    <tr>\n",
       "      <th>2013-01-01 16:30:00</th>\n",
       "      <td>-2.719663</td>\n",
       "    </tr>\n",
       "    <tr>\n",
       "      <th>2013-01-01 16:31:00</th>\n",
       "      <td>-1.514789</td>\n",
       "    </tr>\n",
       "    <tr>\n",
       "      <th>2013-01-01 16:32:00</th>\n",
       "      <td>-0.992036</td>\n",
       "    </tr>\n",
       "    <tr>\n",
       "      <th>2013-01-01 16:33:00</th>\n",
       "      <td>1.105173</td>\n",
       "    </tr>\n",
       "    <tr>\n",
       "      <th>2013-01-01 16:34:00</th>\n",
       "      <td>1.389195</td>\n",
       "    </tr>\n",
       "    <tr>\n",
       "      <th>2013-01-01 16:35:00</th>\n",
       "      <td>0.366881</td>\n",
       "    </tr>\n",
       "    <tr>\n",
       "      <th>2013-01-01 16:36:00</th>\n",
       "      <td>-0.633564</td>\n",
       "    </tr>\n",
       "    <tr>\n",
       "      <th>2013-01-01 16:37:00</th>\n",
       "      <td>-1.708466</td>\n",
       "    </tr>\n",
       "    <tr>\n",
       "      <th>2013-01-01 16:38:00</th>\n",
       "      <td>0.294307</td>\n",
       "    </tr>\n",
       "    <tr>\n",
       "      <th>2013-01-01 16:39:00</th>\n",
       "      <td>0.705362</td>\n",
       "    </tr>\n",
       "  </tbody>\n",
       "</table>\n",
       "<p>1000 rows × 1 columns</p>\n",
       "</div>"
      ],
      "text/plain": [
       "                            A\n",
       "2013-01-01 00:00:00 -1.974428\n",
       "2013-01-01 00:01:00 -1.148284\n",
       "2013-01-01 00:02:00 -0.380720\n",
       "2013-01-01 00:03:00  0.699184\n",
       "2013-01-01 00:04:00 -0.977866\n",
       "2013-01-01 00:05:00  0.397468\n",
       "2013-01-01 00:06:00  1.159124\n",
       "2013-01-01 00:07:00  0.942133\n",
       "2013-01-01 00:08:00 -1.162891\n",
       "2013-01-01 00:09:00  0.949470\n",
       "2013-01-01 00:10:00  0.079401\n",
       "2013-01-01 00:11:00 -0.280849\n",
       "2013-01-01 00:12:00 -0.002108\n",
       "2013-01-01 00:13:00  0.314929\n",
       "2013-01-01 00:14:00  0.240159\n",
       "2013-01-01 00:15:00 -1.557890\n",
       "2013-01-01 00:16:00 -0.841496\n",
       "2013-01-01 00:17:00  0.754569\n",
       "2013-01-01 00:18:00 -1.082962\n",
       "2013-01-01 00:19:00  0.130185\n",
       "2013-01-01 00:20:00 -0.327887\n",
       "2013-01-01 00:21:00 -0.405397\n",
       "2013-01-01 00:22:00 -0.689178\n",
       "2013-01-01 00:23:00  1.214522\n",
       "2013-01-01 00:24:00  1.096369\n",
       "2013-01-01 00:25:00 -0.788482\n",
       "2013-01-01 00:26:00  0.526307\n",
       "2013-01-01 00:27:00 -0.939394\n",
       "2013-01-01 00:28:00  2.360202\n",
       "2013-01-01 00:29:00  0.306818\n",
       "...                       ...\n",
       "2013-01-01 16:10:00 -0.456225\n",
       "2013-01-01 16:11:00 -2.079292\n",
       "2013-01-01 16:12:00 -0.098580\n",
       "2013-01-01 16:13:00 -0.211227\n",
       "2013-01-01 16:14:00 -0.054038\n",
       "2013-01-01 16:15:00  2.419179\n",
       "2013-01-01 16:16:00  1.131048\n",
       "2013-01-01 16:17:00 -0.476872\n",
       "2013-01-01 16:18:00  0.698769\n",
       "2013-01-01 16:19:00  1.544875\n",
       "2013-01-01 16:20:00  0.500004\n",
       "2013-01-01 16:21:00 -2.397660\n",
       "2013-01-01 16:22:00 -0.405765\n",
       "2013-01-01 16:23:00 -0.623327\n",
       "2013-01-01 16:24:00  0.893022\n",
       "2013-01-01 16:25:00  0.721776\n",
       "2013-01-01 16:26:00  0.480019\n",
       "2013-01-01 16:27:00  0.107186\n",
       "2013-01-01 16:28:00 -1.087216\n",
       "2013-01-01 16:29:00 -0.062043\n",
       "2013-01-01 16:30:00 -2.719663\n",
       "2013-01-01 16:31:00 -1.514789\n",
       "2013-01-01 16:32:00 -0.992036\n",
       "2013-01-01 16:33:00  1.105173\n",
       "2013-01-01 16:34:00  1.389195\n",
       "2013-01-01 16:35:00  0.366881\n",
       "2013-01-01 16:36:00 -0.633564\n",
       "2013-01-01 16:37:00 -1.708466\n",
       "2013-01-01 16:38:00  0.294307\n",
       "2013-01-01 16:39:00  0.705362\n",
       "\n",
       "[1000 rows x 1 columns]"
      ]
     },
     "execution_count": 37,
     "metadata": {},
     "output_type": "execute_result"
    }
   ],
   "source": [
    "dft = pd.DataFrame(np.random.randn(1000, 1), columns=['A'], index=pd.date_range('20130101', periods=1000, freq='T'))\n",
    "dft"
   ]
  },
  {
   "cell_type": "code",
   "execution_count": 38,
   "metadata": {},
   "outputs": [
    {
     "data": {
      "text/html": [
       "<div>\n",
       "<style>\n",
       "    .dataframe thead tr:only-child th {\n",
       "        text-align: right;\n",
       "    }\n",
       "\n",
       "    .dataframe thead th {\n",
       "        text-align: left;\n",
       "    }\n",
       "\n",
       "    .dataframe tbody tr th {\n",
       "        vertical-align: top;\n",
       "    }\n",
       "</style>\n",
       "<table border=\"1\" class=\"dataframe\">\n",
       "  <thead>\n",
       "    <tr style=\"text-align: right;\">\n",
       "      <th></th>\n",
       "      <th></th>\n",
       "      <th>A</th>\n",
       "    </tr>\n",
       "  </thead>\n",
       "  <tbody>\n",
       "    <tr>\n",
       "      <th rowspan=\"2\" valign=\"top\">2013-01-01 00:00:00</th>\n",
       "      <th>a</th>\n",
       "      <td>0.876886</td>\n",
       "    </tr>\n",
       "    <tr>\n",
       "      <th>b</th>\n",
       "      <td>-0.564818</td>\n",
       "    </tr>\n",
       "    <tr>\n",
       "      <th rowspan=\"2\" valign=\"top\">2013-01-01 12:00:00</th>\n",
       "      <th>a</th>\n",
       "      <td>0.997184</td>\n",
       "    </tr>\n",
       "    <tr>\n",
       "      <th>b</th>\n",
       "      <td>2.986819</td>\n",
       "    </tr>\n",
       "    <tr>\n",
       "      <th rowspan=\"2\" valign=\"top\">2013-01-02 00:00:00</th>\n",
       "      <th>a</th>\n",
       "      <td>-0.761274</td>\n",
       "    </tr>\n",
       "    <tr>\n",
       "      <th>b</th>\n",
       "      <td>1.470748</td>\n",
       "    </tr>\n",
       "    <tr>\n",
       "      <th rowspan=\"2\" valign=\"top\">2013-01-02 12:00:00</th>\n",
       "      <th>a</th>\n",
       "      <td>-0.418003</td>\n",
       "    </tr>\n",
       "    <tr>\n",
       "      <th>b</th>\n",
       "      <td>0.412899</td>\n",
       "    </tr>\n",
       "    <tr>\n",
       "      <th rowspan=\"2\" valign=\"top\">2013-01-03 00:00:00</th>\n",
       "      <th>a</th>\n",
       "      <td>-0.024298</td>\n",
       "    </tr>\n",
       "    <tr>\n",
       "      <th>b</th>\n",
       "      <td>-0.663589</td>\n",
       "    </tr>\n",
       "    <tr>\n",
       "      <th rowspan=\"2\" valign=\"top\">2013-01-03 12:00:00</th>\n",
       "      <th>a</th>\n",
       "      <td>0.040428</td>\n",
       "    </tr>\n",
       "    <tr>\n",
       "      <th>b</th>\n",
       "      <td>-1.665858</td>\n",
       "    </tr>\n",
       "    <tr>\n",
       "      <th rowspan=\"2\" valign=\"top\">2013-01-04 00:00:00</th>\n",
       "      <th>a</th>\n",
       "      <td>-1.850026</td>\n",
       "    </tr>\n",
       "    <tr>\n",
       "      <th>b</th>\n",
       "      <td>-0.105010</td>\n",
       "    </tr>\n",
       "    <tr>\n",
       "      <th rowspan=\"2\" valign=\"top\">2013-01-04 12:00:00</th>\n",
       "      <th>a</th>\n",
       "      <td>-1.768214</td>\n",
       "    </tr>\n",
       "    <tr>\n",
       "      <th>b</th>\n",
       "      <td>-1.613309</td>\n",
       "    </tr>\n",
       "    <tr>\n",
       "      <th rowspan=\"2\" valign=\"top\">2013-01-05 00:00:00</th>\n",
       "      <th>a</th>\n",
       "      <td>-1.428305</td>\n",
       "    </tr>\n",
       "    <tr>\n",
       "      <th>b</th>\n",
       "      <td>0.748232</td>\n",
       "    </tr>\n",
       "    <tr>\n",
       "      <th rowspan=\"2\" valign=\"top\">2013-01-05 12:00:00</th>\n",
       "      <th>a</th>\n",
       "      <td>0.120031</td>\n",
       "    </tr>\n",
       "    <tr>\n",
       "      <th>b</th>\n",
       "      <td>0.314388</td>\n",
       "    </tr>\n",
       "  </tbody>\n",
       "</table>\n",
       "</div>"
      ],
      "text/plain": [
       "                              A\n",
       "2013-01-01 00:00:00 a  0.876886\n",
       "                    b -0.564818\n",
       "2013-01-01 12:00:00 a  0.997184\n",
       "                    b  2.986819\n",
       "2013-01-02 00:00:00 a -0.761274\n",
       "                    b  1.470748\n",
       "2013-01-02 12:00:00 a -0.418003\n",
       "                    b  0.412899\n",
       "2013-01-03 00:00:00 a -0.024298\n",
       "                    b -0.663589\n",
       "2013-01-03 12:00:00 a  0.040428\n",
       "                    b -1.665858\n",
       "2013-01-04 00:00:00 a -1.850026\n",
       "                    b -0.105010\n",
       "2013-01-04 12:00:00 a -1.768214\n",
       "                    b -1.613309\n",
       "2013-01-05 00:00:00 a -1.428305\n",
       "                    b  0.748232\n",
       "2013-01-05 12:00:00 a  0.120031\n",
       "                    b  0.314388"
      ]
     },
     "execution_count": 38,
     "metadata": {},
     "output_type": "execute_result"
    }
   ],
   "source": [
    "dft2 = pd.DataFrame(np.random.randn(20, 1),\n",
    "                    columns=['A'],\n",
    "                    index=pd.MultiIndex.from_product([pd.date_range('20130101',\n",
    "                                                                    periods=10,\n",
    "                                                                    freq='12H'),\n",
    "                                                     ['a', 'b']]))\n",
    "dft2"
   ]
  },
  {
   "cell_type": "code",
   "execution_count": 40,
   "metadata": {},
   "outputs": [
    {
     "data": {
      "text/plain": [
       "Timestamp('2014-02-01 00:00:00')"
      ]
     },
     "execution_count": 40,
     "metadata": {},
     "output_type": "execute_result"
    }
   ],
   "source": [
    "# offset\n",
    "\n",
    "from pandas.tseries.offsets import MonthBegin\n",
    "pd.Timestamp('2014-01-02')+MonthBegin(n=1)"
   ]
  },
  {
   "cell_type": "code",
   "execution_count": 41,
   "metadata": {},
   "outputs": [
    {
     "data": {
      "text/plain": [
       "Timestamp('2014-05-01 00:00:00')"
      ]
     },
     "execution_count": 41,
     "metadata": {},
     "output_type": "execute_result"
    }
   ],
   "source": [
    "pd.Timestamp('2014-01-02') + MonthBegin(n=4)"
   ]
  },
  {
   "cell_type": "code",
   "execution_count": 45,
   "metadata": {},
   "outputs": [
    {
     "data": {
      "text/plain": [
       "DatetimeIndex(['1970-05-25', '1970-07-03', '1970-10-12', '1971-05-31',\n",
       "               '1971-07-05', '1971-10-11', '1972-05-29', '1972-07-04',\n",
       "               '1972-10-09', '1973-05-28',\n",
       "               ...\n",
       "               '2027-10-11', '2028-05-29', '2028-07-04', '2028-10-09',\n",
       "               '2029-05-28', '2029-07-04', '2029-10-08', '2030-05-27',\n",
       "               '2030-07-04', '2030-10-14'],\n",
       "              dtype='datetime64[ns]', length=183, freq=None)"
      ]
     },
     "execution_count": 45,
     "metadata": {},
     "output_type": "execute_result"
    }
   ],
   "source": [
    "# holiday\n",
    "from pandas.tseries.offsets import *\n",
    "from pandas.tseries.holiday import Holiday, USMemorialDay, AbstractHolidayCalendar, nearest_workday, MO\n",
    "class ExampleCalendar(AbstractHolidayCalendar):\n",
    "        rules = [\n",
    "                 USMemorialDay,\n",
    "                 Holiday('July 4th', month=7, day=4, observance=nearest_workday),\n",
    "                 Holiday('Columbus Day', month=10, day=1,\n",
    "                 offset=DateOffset(weekday=MO(2))), #same as 2*Week(weekday=2)\n",
    "                ]\n",
    "\n",
    "cal = ExampleCalendar()\n",
    "cal.holidays()"
   ]
  },
  {
   "cell_type": "code",
   "execution_count": 46,
   "metadata": {},
   "outputs": [
    {
     "data": {
      "text/plain": [
       "array([datetime.datetime(2012, 7, 2, 0, 0),\n",
       "       datetime.datetime(2012, 7, 3, 0, 0),\n",
       "       datetime.datetime(2012, 7, 5, 0, 0),\n",
       "       datetime.datetime(2012, 7, 6, 0, 0),\n",
       "       datetime.datetime(2012, 7, 9, 0, 0),\n",
       "       datetime.datetime(2012, 7, 10, 0, 0)], dtype=object)"
      ]
     },
     "execution_count": 46,
     "metadata": {},
     "output_type": "execute_result"
    }
   ],
   "source": [
    "# use CDay - calendar day\n",
    "from pandas.tseries.offsets import CDay\n",
    "pd.DatetimeIndex(start='7/1/2012', end='7/10/2012', freq=CDay(calendar=cal)).to_pydatetime()"
   ]
  },
  {
   "cell_type": "code",
   "execution_count": 47,
   "metadata": {},
   "outputs": [
    {
     "data": {
      "text/plain": [
       "Timestamp('2012-05-29 00:00:00')"
      ]
     },
     "execution_count": 47,
     "metadata": {},
     "output_type": "execute_result"
    }
   ],
   "source": [
    "offset = CustomBusinessDay(calendar=cal)\n",
    "datetime(2012, 5, 25) + offset"
   ]
  },
  {
   "cell_type": "markdown",
   "metadata": {},
   "source": [
    "# shiftting and lagging"
   ]
  },
  {
   "cell_type": "code",
   "execution_count": 52,
   "metadata": {},
   "outputs": [
    {
     "data": {
      "text/plain": [
       "2011-01-31   -0.533767\n",
       "2011-02-28   -0.275813\n",
       "2011-03-31    0.728291\n",
       "2011-04-29   -1.519962\n",
       "2011-05-31    1.068631\n",
       "Freq: BM, dtype: float64"
      ]
     },
     "execution_count": 52,
     "metadata": {},
     "output_type": "execute_result"
    }
   ],
   "source": [
    "ts = ts[:5]\n",
    "ts"
   ]
  },
  {
   "cell_type": "code",
   "execution_count": 51,
   "metadata": {},
   "outputs": [
    {
     "data": {
      "text/plain": [
       "2011-01-31         NaN\n",
       "2011-02-28   -0.533767\n",
       "2011-03-31   -0.275813\n",
       "2011-04-29    0.728291\n",
       "2011-05-31   -1.519962\n",
       "Freq: BM, dtype: float64"
      ]
     },
     "execution_count": 51,
     "metadata": {},
     "output_type": "execute_result"
    }
   ],
   "source": [
    "ts.shift(1)"
   ]
  },
  {
   "cell_type": "markdown",
   "metadata": {},
   "source": [
    "# frequency conversion"
   ]
  },
  {
   "cell_type": "code",
   "execution_count": 53,
   "metadata": {},
   "outputs": [
    {
     "data": {
      "text/plain": [
       "2011-01-31   -0.533767\n",
       "2011-02-01   -0.533767\n",
       "2011-02-02   -0.533767\n",
       "2011-02-03   -0.533767\n",
       "2011-02-04   -0.533767\n",
       "2011-02-07   -0.533767\n",
       "2011-02-08   -0.533767\n",
       "2011-02-09   -0.533767\n",
       "2011-02-10   -0.533767\n",
       "2011-02-11   -0.533767\n",
       "2011-02-14   -0.533767\n",
       "2011-02-15   -0.533767\n",
       "2011-02-16   -0.533767\n",
       "2011-02-17   -0.533767\n",
       "2011-02-18   -0.533767\n",
       "2011-02-21   -0.533767\n",
       "2011-02-22   -0.533767\n",
       "2011-02-23   -0.533767\n",
       "2011-02-24   -0.533767\n",
       "2011-02-25   -0.533767\n",
       "2011-02-28   -0.275813\n",
       "2011-03-01   -0.275813\n",
       "2011-03-02   -0.275813\n",
       "2011-03-03   -0.275813\n",
       "2011-03-04   -0.275813\n",
       "2011-03-07   -0.275813\n",
       "2011-03-08   -0.275813\n",
       "2011-03-09   -0.275813\n",
       "2011-03-10   -0.275813\n",
       "2011-03-11   -0.275813\n",
       "                ...   \n",
       "2011-04-20    0.728291\n",
       "2011-04-21    0.728291\n",
       "2011-04-22    0.728291\n",
       "2011-04-25    0.728291\n",
       "2011-04-26    0.728291\n",
       "2011-04-27    0.728291\n",
       "2011-04-28    0.728291\n",
       "2011-04-29   -1.519962\n",
       "2011-05-02   -1.519962\n",
       "2011-05-03   -1.519962\n",
       "2011-05-04   -1.519962\n",
       "2011-05-05   -1.519962\n",
       "2011-05-06   -1.519962\n",
       "2011-05-09   -1.519962\n",
       "2011-05-10   -1.519962\n",
       "2011-05-11   -1.519962\n",
       "2011-05-12   -1.519962\n",
       "2011-05-13   -1.519962\n",
       "2011-05-16   -1.519962\n",
       "2011-05-17   -1.519962\n",
       "2011-05-18   -1.519962\n",
       "2011-05-19   -1.519962\n",
       "2011-05-20   -1.519962\n",
       "2011-05-23   -1.519962\n",
       "2011-05-24   -1.519962\n",
       "2011-05-25   -1.519962\n",
       "2011-05-26   -1.519962\n",
       "2011-05-27   -1.519962\n",
       "2011-05-30   -1.519962\n",
       "2011-05-31    1.068631\n",
       "Freq: B, Length: 87, dtype: float64"
      ]
     },
     "execution_count": 53,
     "metadata": {},
     "output_type": "execute_result"
    }
   ],
   "source": [
    "ts.asfreq(BDay(), method='pad')"
   ]
  },
  {
   "cell_type": "code",
   "execution_count": 54,
   "metadata": {},
   "outputs": [
    {
     "data": {
      "text/plain": [
       "2011-01-31 00:00:00   -0.533767\n",
       "2011-01-31 00:05:00         NaN\n",
       "2011-01-31 00:10:00         NaN\n",
       "2011-01-31 00:15:00         NaN\n",
       "2011-01-31 00:20:00         NaN\n",
       "2011-01-31 00:25:00         NaN\n",
       "2011-01-31 00:30:00         NaN\n",
       "2011-01-31 00:35:00         NaN\n",
       "2011-01-31 00:40:00         NaN\n",
       "2011-01-31 00:45:00         NaN\n",
       "2011-01-31 00:50:00         NaN\n",
       "2011-01-31 00:55:00         NaN\n",
       "2011-01-31 01:00:00         NaN\n",
       "2011-01-31 01:05:00         NaN\n",
       "2011-01-31 01:10:00         NaN\n",
       "2011-01-31 01:15:00         NaN\n",
       "2011-01-31 01:20:00         NaN\n",
       "2011-01-31 01:25:00         NaN\n",
       "2011-01-31 01:30:00         NaN\n",
       "2011-01-31 01:35:00         NaN\n",
       "2011-01-31 01:40:00         NaN\n",
       "2011-01-31 01:45:00         NaN\n",
       "2011-01-31 01:50:00         NaN\n",
       "2011-01-31 01:55:00         NaN\n",
       "2011-01-31 02:00:00         NaN\n",
       "2011-01-31 02:05:00         NaN\n",
       "2011-01-31 02:10:00         NaN\n",
       "2011-01-31 02:15:00         NaN\n",
       "2011-01-31 02:20:00         NaN\n",
       "2011-01-31 02:25:00         NaN\n",
       "                         ...   \n",
       "2011-05-30 21:35:00         NaN\n",
       "2011-05-30 21:40:00         NaN\n",
       "2011-05-30 21:45:00         NaN\n",
       "2011-05-30 21:50:00         NaN\n",
       "2011-05-30 21:55:00         NaN\n",
       "2011-05-30 22:00:00         NaN\n",
       "2011-05-30 22:05:00         NaN\n",
       "2011-05-30 22:10:00         NaN\n",
       "2011-05-30 22:15:00         NaN\n",
       "2011-05-30 22:20:00         NaN\n",
       "2011-05-30 22:25:00         NaN\n",
       "2011-05-30 22:30:00         NaN\n",
       "2011-05-30 22:35:00         NaN\n",
       "2011-05-30 22:40:00         NaN\n",
       "2011-05-30 22:45:00         NaN\n",
       "2011-05-30 22:50:00         NaN\n",
       "2011-05-30 22:55:00         NaN\n",
       "2011-05-30 23:00:00         NaN\n",
       "2011-05-30 23:05:00         NaN\n",
       "2011-05-30 23:10:00         NaN\n",
       "2011-05-30 23:15:00         NaN\n",
       "2011-05-30 23:20:00         NaN\n",
       "2011-05-30 23:25:00         NaN\n",
       "2011-05-30 23:30:00         NaN\n",
       "2011-05-30 23:35:00         NaN\n",
       "2011-05-30 23:40:00         NaN\n",
       "2011-05-30 23:45:00         NaN\n",
       "2011-05-30 23:50:00         NaN\n",
       "2011-05-30 23:55:00         NaN\n",
       "2011-05-31 00:00:00    1.068631\n",
       "Freq: 5T, Length: 34561, dtype: float64"
      ]
     },
     "execution_count": 54,
     "metadata": {},
     "output_type": "execute_result"
    }
   ],
   "source": [
    "ts.resample('5min').mean()"
   ]
  },
  {
   "cell_type": "code",
   "execution_count": 55,
   "metadata": {},
   "outputs": [
    {
     "data": {
      "text/plain": [
       "2011-01-31 00:00:00.000   -0.533767\n",
       "2011-01-31 00:00:00.250   -0.533767\n",
       "2011-01-31 00:00:00.500   -0.533767\n",
       "2011-01-31 00:00:00.750         NaN\n",
       "2011-01-31 00:00:01.000         NaN\n",
       "2011-01-31 00:00:01.250         NaN\n",
       "2011-01-31 00:00:01.500         NaN\n",
       "2011-01-31 00:00:01.750         NaN\n",
       "2011-01-31 00:00:02.000         NaN\n",
       "2011-01-31 00:00:02.250         NaN\n",
       "2011-01-31 00:00:02.500         NaN\n",
       "2011-01-31 00:00:02.750         NaN\n",
       "2011-01-31 00:00:03.000         NaN\n",
       "2011-01-31 00:00:03.250         NaN\n",
       "2011-01-31 00:00:03.500         NaN\n",
       "2011-01-31 00:00:03.750         NaN\n",
       "2011-01-31 00:00:04.000         NaN\n",
       "2011-01-31 00:00:04.250         NaN\n",
       "2011-01-31 00:00:04.500         NaN\n",
       "2011-01-31 00:00:04.750         NaN\n",
       "2011-01-31 00:00:05.000         NaN\n",
       "2011-01-31 00:00:05.250         NaN\n",
       "2011-01-31 00:00:05.500         NaN\n",
       "2011-01-31 00:00:05.750         NaN\n",
       "2011-01-31 00:00:06.000         NaN\n",
       "2011-01-31 00:00:06.250         NaN\n",
       "2011-01-31 00:00:06.500         NaN\n",
       "2011-01-31 00:00:06.750         NaN\n",
       "2011-01-31 00:00:07.000         NaN\n",
       "2011-01-31 00:00:07.250         NaN\n",
       "                             ...   \n",
       "2011-02-27 23:59:52.750         NaN\n",
       "2011-02-27 23:59:53.000         NaN\n",
       "2011-02-27 23:59:53.250         NaN\n",
       "2011-02-27 23:59:53.500         NaN\n",
       "2011-02-27 23:59:53.750         NaN\n",
       "2011-02-27 23:59:54.000         NaN\n",
       "2011-02-27 23:59:54.250         NaN\n",
       "2011-02-27 23:59:54.500         NaN\n",
       "2011-02-27 23:59:54.750         NaN\n",
       "2011-02-27 23:59:55.000         NaN\n",
       "2011-02-27 23:59:55.250         NaN\n",
       "2011-02-27 23:59:55.500         NaN\n",
       "2011-02-27 23:59:55.750         NaN\n",
       "2011-02-27 23:59:56.000         NaN\n",
       "2011-02-27 23:59:56.250         NaN\n",
       "2011-02-27 23:59:56.500         NaN\n",
       "2011-02-27 23:59:56.750         NaN\n",
       "2011-02-27 23:59:57.000         NaN\n",
       "2011-02-27 23:59:57.250         NaN\n",
       "2011-02-27 23:59:57.500         NaN\n",
       "2011-02-27 23:59:57.750         NaN\n",
       "2011-02-27 23:59:58.000         NaN\n",
       "2011-02-27 23:59:58.250         NaN\n",
       "2011-02-27 23:59:58.500         NaN\n",
       "2011-02-27 23:59:58.750         NaN\n",
       "2011-02-27 23:59:59.000         NaN\n",
       "2011-02-27 23:59:59.250         NaN\n",
       "2011-02-27 23:59:59.500         NaN\n",
       "2011-02-27 23:59:59.750         NaN\n",
       "2011-02-28 00:00:00.000   -0.275813\n",
       "Freq: 250L, Length: 9676801, dtype: float64"
      ]
     },
     "execution_count": 55,
     "metadata": {},
     "output_type": "execute_result"
    }
   ],
   "source": [
    "ts[:2].resample('250L').asfreq()\n",
    "ts[:2].resample('250L').ffill()\n",
    "ts[:2].resample('250L').ffill(limit=2)"
   ]
  },
  {
   "cell_type": "markdown",
   "metadata": {},
   "source": [
    "# timezone"
   ]
  },
  {
   "cell_type": "code",
   "execution_count": 57,
   "metadata": {
    "collapsed": true
   },
   "outputs": [],
   "source": [
    "rng = pd.date_range('3/6/2012 00:00', periods=15, freq='D')\n",
    "rng.tz"
   ]
  },
  {
   "cell_type": "code",
   "execution_count": 58,
   "metadata": {},
   "outputs": [
    {
     "data": {
      "text/plain": [
       "<DstTzInfo 'Europe/London' LMT-1 day, 23:59:00 STD>"
      ]
     },
     "execution_count": 58,
     "metadata": {},
     "output_type": "execute_result"
    }
   ],
   "source": [
    "rng_pytz = pd.date_range('3/6/2012 00:00', periods=10, freq='D', tz='Europe/London')\n",
    "rng_pytz.tz\n",
    "                         "
   ]
  },
  {
   "cell_type": "code",
   "execution_count": 59,
   "metadata": {},
   "outputs": [
    {
     "data": {
      "text/plain": [
       "2012-03-06 00:00:00+00:00    0.197446\n",
       "2012-03-07 00:00:00+00:00   -0.840098\n",
       "2012-03-08 00:00:00+00:00   -0.701958\n",
       "2012-03-09 00:00:00+00:00    1.108848\n",
       "2012-03-10 00:00:00+00:00    0.230378\n",
       "2012-03-11 00:00:00+00:00   -1.807682\n",
       "2012-03-12 00:00:00+00:00    1.220024\n",
       "2012-03-13 00:00:00+00:00    0.376381\n",
       "2012-03-14 00:00:00+00:00   -0.409129\n",
       "2012-03-15 00:00:00+00:00   -0.845655\n",
       "2012-03-16 00:00:00+00:00   -1.176222\n",
       "2012-03-17 00:00:00+00:00    0.489170\n",
       "2012-03-18 00:00:00+00:00   -1.498749\n",
       "2012-03-19 00:00:00+00:00   -2.167898\n",
       "2012-03-20 00:00:00+00:00   -1.095112\n",
       "Freq: D, dtype: float64"
      ]
     },
     "execution_count": 59,
     "metadata": {},
     "output_type": "execute_result"
    }
   ],
   "source": [
    "ts = pd.Series(np.random.randn(len(rng)), rng)\n",
    "ts_utc = ts.tz_localize('UTC')\n",
    "ts_utc"
   ]
  },
  {
   "cell_type": "code",
   "execution_count": 60,
   "metadata": {},
   "outputs": [
    {
     "data": {
      "text/plain": [
       "2012-03-05 19:00:00-05:00    0.197446\n",
       "2012-03-06 19:00:00-05:00   -0.840098\n",
       "2012-03-07 19:00:00-05:00   -0.701958\n",
       "2012-03-08 19:00:00-05:00    1.108848\n",
       "2012-03-09 19:00:00-05:00    0.230378\n",
       "2012-03-10 19:00:00-05:00   -1.807682\n",
       "2012-03-11 20:00:00-04:00    1.220024\n",
       "2012-03-12 20:00:00-04:00    0.376381\n",
       "2012-03-13 20:00:00-04:00   -0.409129\n",
       "2012-03-14 20:00:00-04:00   -0.845655\n",
       "2012-03-15 20:00:00-04:00   -1.176222\n",
       "2012-03-16 20:00:00-04:00    0.489170\n",
       "2012-03-17 20:00:00-04:00   -1.498749\n",
       "2012-03-18 20:00:00-04:00   -2.167898\n",
       "2012-03-19 20:00:00-04:00   -1.095112\n",
       "Freq: D, dtype: float64"
      ]
     },
     "execution_count": 60,
     "metadata": {},
     "output_type": "execute_result"
    }
   ],
   "source": [
    "ts_utc.tz_convert('US/Eastern')"
   ]
  },
  {
   "cell_type": "code",
   "execution_count": null,
   "metadata": {
    "collapsed": true
   },
   "outputs": [],
   "source": []
  }
 ],
 "metadata": {
  "kernelspec": {
   "display_name": "Python 3",
   "language": "python",
   "name": "python3"
  },
  "language_info": {
   "codemirror_mode": {
    "name": "ipython",
    "version": 3
   },
   "file_extension": ".py",
   "mimetype": "text/x-python",
   "name": "python",
   "nbconvert_exporter": "python",
   "pygments_lexer": "ipython3",
   "version": "3.6.1"
  }
 },
 "nbformat": 4,
 "nbformat_minor": 2
}
